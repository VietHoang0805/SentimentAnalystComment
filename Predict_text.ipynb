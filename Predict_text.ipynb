{
 "cells": [
  {
   "cell_type": "code",
   "execution_count": 1,
   "metadata": {
    "colab": {
     "base_uri": "https://localhost:8080/",
     "height": 126
    },
    "colab_type": "code",
    "executionInfo": {
     "elapsed": 23369,
     "status": "ok",
     "timestamp": 1596181761706,
     "user": {
      "displayName": "THAI NGUYEN QUOC",
      "photoUrl": "",
      "userId": "14553785917059170356"
     },
     "user_tz": -420
    },
    "id": "yfoQOJelIqeb",
    "outputId": "a511a64e-aee6-4a01-b167-66d2d3d924e6"
   },
   "outputs": [
    {
     "name": "stdout",
     "output_type": "stream",
     "text": [
      "Go to this URL in a browser: https://accounts.google.com/o/oauth2/auth?client_id=947318989803-6bn6qk8qdgf4n4g3pfee6491hc0brc4i.apps.googleusercontent.com&redirect_uri=urn%3aietf%3awg%3aoauth%3a2.0%3aoob&response_type=code&scope=email%20https%3a%2f%2fwww.googleapis.com%2fauth%2fdocs.test%20https%3a%2f%2fwww.googleapis.com%2fauth%2fdrive%20https%3a%2f%2fwww.googleapis.com%2fauth%2fdrive.photos.readonly%20https%3a%2f%2fwww.googleapis.com%2fauth%2fpeopleapi.readonly\n",
      "\n",
      "Enter your authorization code:\n",
      "··········\n",
      "Mounted at /content/drive\n"
     ]
    }
   ],
   "source": [
    "from google.colab import drive\n",
    "drive.mount(\"/content/drive\")"
   ]
  },
  {
   "cell_type": "code",
   "execution_count": 2,
   "metadata": {
    "colab": {},
    "colab_type": "code",
    "executionInfo": {
     "elapsed": 7938,
     "status": "ok",
     "timestamp": 1596181761709,
     "user": {
      "displayName": "THAI NGUYEN QUOC",
      "photoUrl": "",
      "userId": "14553785917059170356"
     },
     "user_tz": -420
    },
    "id": "H-1ZZeOGNRAm"
   },
   "outputs": [],
   "source": [
    "path = \"/content/drive/My Drive/Khoa Luan/\""
   ]
  },
  {
   "cell_type": "code",
   "execution_count": 3,
   "metadata": {
    "colab": {
     "base_uri": "https://localhost:8080/",
     "height": 177
    },
    "colab_type": "code",
    "executionInfo": {
     "elapsed": 24181,
     "status": "ok",
     "timestamp": 1596181778228,
     "user": {
      "displayName": "THAI NGUYEN QUOC",
      "photoUrl": "",
      "userId": "14553785917059170356"
     },
     "user_tz": -420
    },
    "id": "MesatVQZNT4f",
    "outputId": "f82bb161-b40b-423f-f614-c5882274e2da"
   },
   "outputs": [
    {
     "name": "stdout",
     "output_type": "stream",
     "text": [
      "  Building wheel for keras-bert (setup.py) ... \u001b[?25l\u001b[?25hdone\n",
      "  Building wheel for keras-transformer (setup.py) ... \u001b[?25l\u001b[?25hdone\n",
      "  Building wheel for keras-pos-embd (setup.py) ... \u001b[?25l\u001b[?25hdone\n",
      "  Building wheel for keras-multi-head (setup.py) ... \u001b[?25l\u001b[?25hdone\n",
      "  Building wheel for keras-layer-normalization (setup.py) ... \u001b[?25l\u001b[?25hdone\n",
      "  Building wheel for keras-position-wise-feed-forward (setup.py) ... \u001b[?25l\u001b[?25hdone\n",
      "  Building wheel for keras-embed-sim (setup.py) ... \u001b[?25l\u001b[?25hdone\n",
      "  Building wheel for keras-self-attention (setup.py) ... \u001b[?25l\u001b[?25hdone\n",
      "  Building wheel for keras-rectified-adam (setup.py) ... \u001b[?25l\u001b[?25hdone\n"
     ]
    }
   ],
   "source": [
    "!pip install -q keras-bert==0.85.0      #cài thư  viện keras-bert\n",
    "!pip install -q keras-rectified-adam      #cài thư viện RAdam"
   ]
  },
  {
   "cell_type": "code",
   "execution_count": 4,
   "metadata": {
    "colab": {
     "base_uri": "https://localhost:8080/",
     "height": 35
    },
    "colab_type": "code",
    "executionInfo": {
     "elapsed": 23960,
     "status": "ok",
     "timestamp": 1596181778243,
     "user": {
      "displayName": "THAI NGUYEN QUOC",
      "photoUrl": "",
      "userId": "14553785917059170356"
     },
     "user_tz": -420
    },
    "id": "HNB7JvkqNU_G",
    "outputId": "c894efd9-ba59-40c1-e397-e0e38b4ab7d2"
   },
   "outputs": [
    {
     "name": "stdout",
     "output_type": "stream",
     "text": [
      "TensorFlow 1.x selected.\n"
     ]
    }
   ],
   "source": [
    "#@title xài tensorflow 1.x thì nó mới chạy đc\n",
    "%tensorflow_version 1.x"
   ]
  },
  {
   "cell_type": "code",
   "execution_count": 5,
   "metadata": {
    "colab": {
     "base_uri": "https://localhost:8080/",
     "height": 301
    },
    "colab_type": "code",
    "executionInfo": {
     "elapsed": 28858,
     "status": "ok",
     "timestamp": 1596181783326,
     "user": {
      "displayName": "THAI NGUYEN QUOC",
      "photoUrl": "",
      "userId": "14553785917059170356"
     },
     "user_tz": -420
    },
    "id": "GZqmJlyaNaBp",
    "outputId": "645fd3af-b570-4fc4-ca81-b7410d42bfc2"
   },
   "outputs": [
    {
     "name": "stdout",
     "output_type": "stream",
     "text": [
      "Collecting keras==2.3.1\n",
      "\u001b[?25l  Downloading https://files.pythonhosted.org/packages/ad/fd/6bfe87920d7f4fd475acd28500a42482b6b84479832bdc0fe9e589a60ceb/Keras-2.3.1-py2.py3-none-any.whl (377kB)\n",
      "\r\u001b[K     |▉                               | 10kB 27.8MB/s eta 0:00:01\r\u001b[K     |█▊                              | 20kB 5.6MB/s eta 0:00:01\r\u001b[K     |██▋                             | 30kB 7.9MB/s eta 0:00:01\r\u001b[K     |███▌                            | 40kB 10.1MB/s eta 0:00:01\r\u001b[K     |████▍                           | 51kB 7.1MB/s eta 0:00:01\r\u001b[K     |█████▏                          | 61kB 8.0MB/s eta 0:00:01\r\u001b[K     |██████                          | 71kB 8.4MB/s eta 0:00:01\r\u001b[K     |███████                         | 81kB 9.3MB/s eta 0:00:01\r\u001b[K     |███████▉                        | 92kB 8.4MB/s eta 0:00:01\r\u001b[K     |████████▊                       | 102kB 9.2MB/s eta 0:00:01\r\u001b[K     |█████████▌                      | 112kB 9.2MB/s eta 0:00:01\r\u001b[K     |██████████▍                     | 122kB 9.2MB/s eta 0:00:01\r\u001b[K     |███████████▎                    | 133kB 9.2MB/s eta 0:00:01\r\u001b[K     |████████████▏                   | 143kB 9.2MB/s eta 0:00:01\r\u001b[K     |█████████████                   | 153kB 9.2MB/s eta 0:00:01\r\u001b[K     |█████████████▉                  | 163kB 9.2MB/s eta 0:00:01\r\u001b[K     |██████████████▊                 | 174kB 9.2MB/s eta 0:00:01\r\u001b[K     |███████████████▋                | 184kB 9.2MB/s eta 0:00:01\r\u001b[K     |████████████████▌               | 194kB 9.2MB/s eta 0:00:01\r\u001b[K     |█████████████████▍              | 204kB 9.2MB/s eta 0:00:01\r\u001b[K     |██████████████████▏             | 215kB 9.2MB/s eta 0:00:01\r\u001b[K     |███████████████████             | 225kB 9.2MB/s eta 0:00:01\r\u001b[K     |████████████████████            | 235kB 9.2MB/s eta 0:00:01\r\u001b[K     |████████████████████▉           | 245kB 9.2MB/s eta 0:00:01\r\u001b[K     |█████████████████████▊          | 256kB 9.2MB/s eta 0:00:01\r\u001b[K     |██████████████████████▌         | 266kB 9.2MB/s eta 0:00:01\r\u001b[K     |███████████████████████▍        | 276kB 9.2MB/s eta 0:00:01\r\u001b[K     |████████████████████████▎       | 286kB 9.2MB/s eta 0:00:01\r\u001b[K     |█████████████████████████▏      | 296kB 9.2MB/s eta 0:00:01\r\u001b[K     |██████████████████████████      | 307kB 9.2MB/s eta 0:00:01\r\u001b[K     |██████████████████████████▉     | 317kB 9.2MB/s eta 0:00:01\r\u001b[K     |███████████████████████████▊    | 327kB 9.2MB/s eta 0:00:01\r\u001b[K     |████████████████████████████▋   | 337kB 9.2MB/s eta 0:00:01\r\u001b[K     |█████████████████████████████▌  | 348kB 9.2MB/s eta 0:00:01\r\u001b[K     |██████████████████████████████▍ | 358kB 9.2MB/s eta 0:00:01\r\u001b[K     |███████████████████████████████▏| 368kB 9.2MB/s eta 0:00:01\r\u001b[K     |████████████████████████████████| 378kB 9.2MB/s \n",
      "\u001b[?25hRequirement already satisfied: keras-applications>=1.0.6 in /usr/local/lib/python3.6/dist-packages (from keras==2.3.1) (1.0.8)\n",
      "Requirement already satisfied: keras-preprocessing>=1.0.5 in /usr/local/lib/python3.6/dist-packages (from keras==2.3.1) (1.1.2)\n",
      "Requirement already satisfied: h5py in /usr/local/lib/python3.6/dist-packages (from keras==2.3.1) (2.10.0)\n",
      "Requirement already satisfied: numpy>=1.9.1 in /usr/local/lib/python3.6/dist-packages (from keras==2.3.1) (1.18.5)\n",
      "Requirement already satisfied: scipy>=0.14 in /usr/local/lib/python3.6/dist-packages (from keras==2.3.1) (1.4.1)\n",
      "Requirement already satisfied: six>=1.9.0 in /usr/local/lib/python3.6/dist-packages (from keras==2.3.1) (1.15.0)\n",
      "Requirement already satisfied: pyyaml in /usr/local/lib/python3.6/dist-packages (from keras==2.3.1) (3.13)\n",
      "\u001b[31mERROR: keras-bert 0.85.0 has requirement Keras>=2.4.3, but you'll have keras 2.3.1 which is incompatible.\u001b[0m\n",
      "Installing collected packages: keras\n",
      "  Found existing installation: Keras 2.4.3\n",
      "    Uninstalling Keras-2.4.3:\n",
      "      Successfully uninstalled Keras-2.4.3\n",
      "Successfully installed keras-2.3.1\n"
     ]
    }
   ],
   "source": [
    "#@title xài keras 2.3.1\n",
    "!pip install keras==2.3.1"
   ]
  },
  {
   "cell_type": "code",
   "execution_count": 6,
   "metadata": {
    "colab": {
     "base_uri": "https://localhost:8080/",
     "height": 35
    },
    "colab_type": "code",
    "executionInfo": {
     "elapsed": 31821,
     "status": "ok",
     "timestamp": 1596181788163,
     "user": {
      "displayName": "THAI NGUYEN QUOC",
      "photoUrl": "",
      "userId": "14553785917059170356"
     },
     "user_tz": -420
    },
    "id": "O_AOQT0iNa7L",
    "outputId": "1c23ada1-08bd-41f1-8dc7-b635f811e75b"
   },
   "outputs": [
    {
     "name": "stderr",
     "output_type": "stream",
     "text": [
      "Using TensorFlow backend.\n"
     ]
    }
   ],
   "source": [
    "# import các thư viện\n",
    "import codecs\n",
    "import tensorflow as tf\n",
    "import keras\n",
    "import os\n",
    "from keras_radam import RAdam\n",
    "from keras import backend as K\n",
    "from keras_bert import load_trained_model_from_checkpoint\n",
    "import numpy as np"
   ]
  },
  {
   "cell_type": "code",
   "execution_count": 7,
   "metadata": {
    "colab": {
     "base_uri": "https://localhost:8080/",
     "height": 141
    },
    "colab_type": "code",
    "executionInfo": {
     "elapsed": 50099,
     "status": "ok",
     "timestamp": 1596181806667,
     "user": {
      "displayName": "THAI NGUYEN QUOC",
      "photoUrl": "",
      "userId": "14553785917059170356"
     },
     "user_tz": -420
    },
    "id": "En7KA4JzNcMZ",
    "outputId": "e5940c71-c2b5-4e33-ce30-08c5bc744082"
   },
   "outputs": [
    {
     "name": "stdout",
     "output_type": "stream",
     "text": [
      "Archive:  multi_cased_L-12_H-768_A-12.zip\n",
      "   creating: multi_cased_L-12_H-768_A-12/\n",
      "  inflating: multi_cased_L-12_H-768_A-12/bert_model.ckpt.meta  \n",
      "  inflating: multi_cased_L-12_H-768_A-12/bert_model.ckpt.data-00000-of-00001  \n",
      "  inflating: multi_cased_L-12_H-768_A-12/vocab.txt  \n",
      "  inflating: multi_cased_L-12_H-768_A-12/bert_model.ckpt.index  \n",
      "  inflating: multi_cased_L-12_H-768_A-12/bert_config.json  \n"
     ]
    }
   ],
   "source": [
    "!wget -q https://storage.googleapis.com/bert_models/2018_11_23/multi_cased_L-12_H-768_A-12.zip  #tải pre-train BERT\n",
    "!unzip -o multi_cased_L-12_H-768_A-12.zip #giải nén pre-train BERT"
   ]
  },
  {
   "cell_type": "code",
   "execution_count": 8,
   "metadata": {
    "colab": {},
    "colab_type": "code",
    "executionInfo": {
     "elapsed": 49931,
     "status": "ok",
     "timestamp": 1596181806671,
     "user": {
      "displayName": "THAI NGUYEN QUOC",
      "photoUrl": "",
      "userId": "14553785917059170356"
     },
     "user_tz": -420
    },
    "id": "84MOKBslNdVv"
   },
   "outputs": [],
   "source": [
    "pretrained_path = 'multi_cased_L-12_H-768_A-12'\n",
    "config_path = os.path.join(pretrained_path, 'bert_config.json')\n",
    "checkpoint_path = os.path.join(pretrained_path, 'bert_model.ckpt')\n",
    "vocab_path = os.path.join(pretrained_path, 'vocab.txt')"
   ]
  },
  {
   "cell_type": "code",
   "execution_count": 9,
   "metadata": {
    "colab": {},
    "colab_type": "code",
    "executionInfo": {
     "elapsed": 47959,
     "status": "ok",
     "timestamp": 1596181806672,
     "user": {
      "displayName": "THAI NGUYEN QUOC",
      "photoUrl": "",
      "userId": "14553785917059170356"
     },
     "user_tz": -420
    },
    "id": "hzNvMFLvNef8"
   },
   "outputs": [],
   "source": [
    "SEQ_LEN = 256 #sequence_lenght là 256"
   ]
  },
  {
   "cell_type": "code",
   "execution_count": 10,
   "metadata": {
    "colab": {
     "base_uri": "https://localhost:8080/",
     "height": 90
    },
    "colab_type": "code",
    "executionInfo": {
     "elapsed": 73014,
     "status": "ok",
     "timestamp": 1596181831976,
     "user": {
      "displayName": "THAI NGUYEN QUOC",
      "photoUrl": "",
      "userId": "14553785917059170356"
     },
     "user_tz": -420
    },
    "id": "cNgm0BxPNfXB",
    "outputId": "1fd0ba72-ea1d-4f1b-ff6f-4aba40d95373"
   },
   "outputs": [
    {
     "name": "stdout",
     "output_type": "stream",
     "text": [
      "WARNING:tensorflow:From /tensorflow-1.15.2/python3.6/tensorflow_core/python/ops/resource_variable_ops.py:1630: calling BaseResourceVariable.__init__ (from tensorflow.python.ops.resource_variable_ops) with constraint is deprecated and will be removed in a future version.\n",
      "Instructions for updating:\n",
      "If using Keras pass *_constraint arguments to layers.\n"
     ]
    }
   ],
   "source": [
    "#load model BERT lên\n",
    "model = load_trained_model_from_checkpoint(\n",
    "    config_path,\n",
    "    checkpoint_path,\n",
    "    seq_len=SEQ_LEN,\n",
    "    output_layer_num=4,\n",
    "    trainable=True\n",
    ")"
   ]
  },
  {
   "cell_type": "code",
   "execution_count": 11,
   "metadata": {
    "colab": {},
    "colab_type": "code",
    "executionInfo": {
     "elapsed": 72804,
     "status": "ok",
     "timestamp": 1596181831984,
     "user": {
      "displayName": "THAI NGUYEN QUOC",
      "photoUrl": "",
      "userId": "14553785917059170356"
     },
     "user_tz": -420
    },
    "id": "wlQqK5kqNgZx"
   },
   "outputs": [],
   "source": [
    "import keras_bert\n",
    "from keras.layers import Dense, Input, Flatten,SpatialDropout1D\n",
    "from keras.layers import Conv1D, MaxPooling1D, Embedding, Concatenate, Dropout,GlobalMaxPool1D,Lambda\n",
    "from keras.models import Model\n",
    "from keras.layers import Bidirectional,LSTM,GRU\n",
    "from keras.optimizers import Adam"
   ]
  },
  {
   "cell_type": "code",
   "execution_count": 12,
   "metadata": {
    "colab": {},
    "colab_type": "code",
    "executionInfo": {
     "elapsed": 72541,
     "status": "ok",
     "timestamp": 1596181831985,
     "user": {
      "displayName": "THAI NGUYEN QUOC",
      "photoUrl": "",
      "userId": "14553785917059170356"
     },
     "user_tz": -420
    },
    "id": "-h2W81RMNhgQ"
   },
   "outputs": [],
   "source": [
    "LR=2e-5"
   ]
  },
  {
   "cell_type": "code",
   "execution_count": 13,
   "metadata": {
    "colab": {},
    "colab_type": "code",
    "executionInfo": {
     "elapsed": 72230,
     "status": "ok",
     "timestamp": 1596181831987,
     "user": {
      "displayName": "THAI NGUYEN QUOC",
      "photoUrl": "",
      "userId": "14553785917059170356"
     },
     "user_tz": -420
    },
    "id": "063VcV2NNih-"
   },
   "outputs": [],
   "source": [
    "class NonMasking(keras.layers.Layer):    #hàm này dùng để non mask output của BERT (dùng cho các mô hình kết hợp của BERT)\n",
    "    def __init__(self, **kwargs):   \n",
    "        self.supports_masking = True  \n",
    "        super(NonMasking, self).__init__(**kwargs)   \n",
    "  \n",
    "    def build(self, input_shape):   \n",
    "        input_shape = input_shape   \n",
    "  \n",
    "    def compute_mask(self, input, input_mask=None):   \n",
    "        # do not pass the mask to the next layers   \n",
    "        return None   \n",
    "  \n",
    "    def call(self, x, mask=None):   \n",
    "        return x   \n",
    "  \n",
    "    def get_output_shape_for(self, input_shape):   \n",
    "        return input_shape  "
   ]
  },
  {
   "cell_type": "code",
   "execution_count": 14,
   "metadata": {
    "colab": {},
    "colab_type": "code",
    "executionInfo": {
     "elapsed": 70110,
     "status": "ok",
     "timestamp": 1596181831988,
     "user": {
      "displayName": "THAI NGUYEN QUOC",
      "photoUrl": "",
      "userId": "14553785917059170356"
     },
     "user_tz": -420
    },
    "id": "EflyGynvNjhT"
   },
   "outputs": [],
   "source": [
    "def bert_rcnn():   #hàm xây dựng BERT-RCNN\n",
    "  inputs = model.inputs\n",
    "  bert_out = NonMasking()(model.outputs)\n",
    "\n",
    "  bert_out = SpatialDropout1D(0.2)(bert_out)\n",
    "\n",
    "  l_embedding = Lambda(lambda x: K.concatenate([K.zeros(shape=(K.shape(x)[0], 1, K.shape(x)[-1])),\n",
    "                                                        x[:, :-1]], axis=1))(bert_out)\n",
    "          \n",
    "  r_embedding = Lambda(lambda x: K.concatenate([K.zeros(shape=(K.shape(x)[0], 1, K.shape(x)[-1])),\n",
    "                                                        x[:, 1:]], axis=1))(bert_out)\n",
    "\n",
    "  forward = LSTM(256, return_sequences=True)(l_embedding) \n",
    "  backward = LSTM(256, return_sequences=True, go_backwards=True)(r_embedding)\n",
    "  backward = Lambda(lambda x: K.reverse(x, axes=1))(backward)\n",
    "\n",
    "  together = [forward, bert_out , backward]\n",
    "\n",
    "  together = Concatenate(axis=2)(together)\n",
    "\n",
    "  semantic = Conv1D(256, kernel_size=1, activation=\"relu\")(together)\n",
    "  sentence_embed = Lambda(lambda x: K.max(x, axis=1))(semantic)\n",
    "\n",
    "  dense_layer = Dense(256, activation='relu')(sentence_embed)\n",
    "  preds = Dense(1, activation='sigmoid')(dense_layer)\n",
    "  model1 = Model(inputs, preds)\n",
    "  return model1"
   ]
  },
  {
   "cell_type": "code",
   "execution_count": 15,
   "metadata": {
    "colab": {
     "base_uri": "https://localhost:8080/",
     "height": 90
    },
    "colab_type": "code",
    "executionInfo": {
     "elapsed": 66713,
     "status": "ok",
     "timestamp": 1596181832730,
     "user": {
      "displayName": "THAI NGUYEN QUOC",
      "photoUrl": "",
      "userId": "14553785917059170356"
     },
     "user_tz": -420
    },
    "id": "zS9t0a20Nuqe",
    "outputId": "da2a9642-3568-488f-cb29-a30567a80b51"
   },
   "outputs": [
    {
     "name": "stdout",
     "output_type": "stream",
     "text": [
      "WARNING:tensorflow:From /tensorflow-1.15.2/python3.6/tensorflow_core/python/ops/nn_impl.py:183: where (from tensorflow.python.ops.array_ops) is deprecated and will be removed in a future version.\n",
      "Instructions for updating:\n",
      "Use tf.where in 2.0, which has the same broadcast rule as np.where\n"
     ]
    }
   ],
   "source": [
    "model_rcnn = bert_rcnn()\n",
    "model_rcnn.compile(loss='binary_crossentropy',    #compile mô hình BERT-RCNN\n",
    "              optimizer=RAdam(learning_rate=LR),\n",
    "              metrics=['acc'])"
   ]
  },
  {
   "cell_type": "code",
   "execution_count": 16,
   "metadata": {
    "colab": {},
    "colab_type": "code",
    "executionInfo": {
     "elapsed": 78443,
     "status": "ok",
     "timestamp": 1596181844864,
     "user": {
      "displayName": "THAI NGUYEN QUOC",
      "photoUrl": "",
      "userId": "14553785917059170356"
     },
     "user_tz": -420
    },
    "id": "o9NSg3EvOu-s"
   },
   "outputs": [],
   "source": [
    "model_rcnn.load_weights(path+'256_checkpoint_rcnn2_data1.h5') #load file weights BERT-RCNN lên"
   ]
  },
  {
   "cell_type": "code",
   "execution_count": null,
   "metadata": {
    "colab": {},
    "colab_type": "code",
    "id": "vMXO9KIbRAoW"
   },
   "outputs": [],
   "source": [
    "from keras_bert.layers import Extract\n",
    "def bert_base():              #xây dựng mô hình BERT-base\n",
    "  inputs = model.inputs[:2]               \n",
    "  newout = Extract(index=0)(model.output)\n",
    "  newout = keras.layers.Dense(256,activation='relu')(newout)\n",
    "  outputs = keras.layers.Dense(units=1, activation='sigmoid')(newout)\n",
    "  model1 = keras.models.Model(inputs, outputs)\n",
    "  return model1"
   ]
  },
  {
   "cell_type": "code",
   "execution_count": null,
   "metadata": {
    "colab": {},
    "colab_type": "code",
    "id": "t3dqXcm4RQeV"
   },
   "outputs": [],
   "source": [
    "model_base = bert_base()\n",
    "model_base.compile(           #compile mô hình BERT-base\n",
    "    Adam(learning_rate=LR),\n",
    "    loss='binary_crossentropy',\n",
    "    metrics=['accuracy'],\n",
    "  )"
   ]
  },
  {
   "cell_type": "code",
   "execution_count": null,
   "metadata": {
    "colab": {},
    "colab_type": "code",
    "id": "N9Yy64dlSn47"
   },
   "outputs": [],
   "source": [
    "model_base.load_weights(path+'256_checkpoint_data1.h5')   #load file Weight mô hình BERT-base lên"
   ]
  },
  {
   "cell_type": "code",
   "execution_count": 17,
   "metadata": {
    "colab": {},
    "colab_type": "code",
    "executionInfo": {
     "elapsed": 1781,
     "status": "ok",
     "timestamp": 1596181846668,
     "user": {
      "displayName": "THAI NGUYEN QUOC",
      "photoUrl": "",
      "userId": "14553785917059170356"
     },
     "user_tz": -420
    },
    "id": "-U0T9NYPN0O2"
   },
   "outputs": [],
   "source": [
    "token_dict = {}    \n",
    "with codecs.open(vocab_path, 'rb','utf-8') as reader: #load file vocab vào token_dict\n",
    "    for line in reader:\n",
    "        token = line.strip()\n",
    "        token_dict[token] = len(token_dict) "
   ]
  },
  {
   "cell_type": "code",
   "execution_count": null,
   "metadata": {
    "colab": {},
    "colab_type": "code",
    "id": "SUlggNC34SCd"
   },
   "outputs": [],
   "source": [
    "vua ve lai vn la phai lap tai khoan cua hang ee ord do cua me yumi ngay chua bao gio that vong negative negative yeu thuong positive\n",
    "\n",
    "\n",
    "\n"
   ]
  },
  {
   "cell_type": "code",
   "execution_count": 18,
   "metadata": {
    "colab": {},
    "colab_type": "code",
    "executionInfo": {
     "elapsed": 1767,
     "status": "ok",
     "timestamp": 1596181846671,
     "user": {
      "displayName": "THAI NGUYEN QUOC",
      "photoUrl": "",
      "userId": "14553785917059170356"
     },
     "user_tz": -420
    },
    "id": "xbkHqDPXN1rw"
   },
   "outputs": [],
   "source": [
    "from keras_bert import Tokenizer\n",
    "index = Tokenizer(token_dict,cased=True)"
   ]
  },
  {
   "cell_type": "code",
   "execution_count": 19,
   "metadata": {
    "colab": {
     "base_uri": "https://localhost:8080/",
     "height": 870
    },
    "colab_type": "code",
    "executionInfo": {
     "elapsed": 24861,
     "status": "ok",
     "timestamp": 1596181869775,
     "user": {
      "displayName": "THAI NGUYEN QUOC",
      "photoUrl": "",
      "userId": "14553785917059170356"
     },
     "user_tz": -420
    },
    "id": "TIr4vGm7N2kF",
    "outputId": "727c4e75-2b9d-4001-c2d4-76d67ba378fd"
   },
   "outputs": [
    {
     "name": "stdout",
     "output_type": "stream",
     "text": [
      "Collecting vncorenlp\n",
      "\u001b[?25l  Downloading https://files.pythonhosted.org/packages/71/c2/96a60cf75421ecc740829fa920c617b3dd7fa6791e17554e7c6f3e7d7fca/vncorenlp-1.0.3.tar.gz (2.6MB)\n",
      "\r\u001b[K     |▏                               | 10kB 24.9MB/s eta 0:00:01\r\u001b[K     |▎                               | 20kB 5.9MB/s eta 0:00:01\r\u001b[K     |▍                               | 30kB 8.3MB/s eta 0:00:01\r\u001b[K     |▌                               | 40kB 7.3MB/s eta 0:00:01\r\u001b[K     |▋                               | 51kB 6.8MB/s eta 0:00:01\r\u001b[K     |▊                               | 61kB 8.0MB/s eta 0:00:01\r\u001b[K     |▉                               | 71kB 8.5MB/s eta 0:00:01\r\u001b[K     |█                               | 81kB 8.7MB/s eta 0:00:01\r\u001b[K     |█▏                              | 92kB 8.1MB/s eta 0:00:01\r\u001b[K     |█▎                              | 102kB 8.6MB/s eta 0:00:01\r\u001b[K     |█▍                              | 112kB 8.6MB/s eta 0:00:01\r\u001b[K     |█▌                              | 122kB 8.6MB/s eta 0:00:01\r\u001b[K     |█▋                              | 133kB 8.6MB/s eta 0:00:01\r\u001b[K     |█▊                              | 143kB 8.6MB/s eta 0:00:01\r\u001b[K     |█▉                              | 153kB 8.6MB/s eta 0:00:01\r\u001b[K     |██                              | 163kB 8.6MB/s eta 0:00:01\r\u001b[K     |██                              | 174kB 8.6MB/s eta 0:00:01\r\u001b[K     |██▎                             | 184kB 8.6MB/s eta 0:00:01\r\u001b[K     |██▍                             | 194kB 8.6MB/s eta 0:00:01\r\u001b[K     |██▌                             | 204kB 8.6MB/s eta 0:00:01\r\u001b[K     |██▋                             | 215kB 8.6MB/s eta 0:00:01\r\u001b[K     |██▊                             | 225kB 8.6MB/s eta 0:00:01\r\u001b[K     |██▉                             | 235kB 8.6MB/s eta 0:00:01\r\u001b[K     |███                             | 245kB 8.6MB/s eta 0:00:01\r\u001b[K     |███                             | 256kB 8.6MB/s eta 0:00:01\r\u001b[K     |███▏                            | 266kB 8.6MB/s eta 0:00:01\r\u001b[K     |███▍                            | 276kB 8.6MB/s eta 0:00:01\r\u001b[K     |███▌                            | 286kB 8.6MB/s eta 0:00:01\r\u001b[K     |███▋                            | 296kB 8.6MB/s eta 0:00:01\r\u001b[K     |███▊                            | 307kB 8.6MB/s eta 0:00:01\r\u001b[K     |███▉                            | 317kB 8.6MB/s eta 0:00:01\r\u001b[K     |████                            | 327kB 8.6MB/s eta 0:00:01\r\u001b[K     |████                            | 337kB 8.6MB/s eta 0:00:01\r\u001b[K     |████▏                           | 348kB 8.6MB/s eta 0:00:01\r\u001b[K     |████▎                           | 358kB 8.6MB/s eta 0:00:01\r\u001b[K     |████▌                           | 368kB 8.6MB/s eta 0:00:01\r\u001b[K     |████▋                           | 378kB 8.6MB/s eta 0:00:01\r\u001b[K     |████▊                           | 389kB 8.6MB/s eta 0:00:01\r\u001b[K     |████▉                           | 399kB 8.6MB/s eta 0:00:01\r\u001b[K     |█████                           | 409kB 8.6MB/s eta 0:00:01\r\u001b[K     |█████                           | 419kB 8.6MB/s eta 0:00:01\r\u001b[K     |█████▏                          | 430kB 8.6MB/s eta 0:00:01\r\u001b[K     |█████▎                          | 440kB 8.6MB/s eta 0:00:01\r\u001b[K     |█████▍                          | 450kB 8.6MB/s eta 0:00:01\r\u001b[K     |█████▋                          | 460kB 8.6MB/s eta 0:00:01\r\u001b[K     |█████▊                          | 471kB 8.6MB/s eta 0:00:01\r\u001b[K     |█████▉                          | 481kB 8.6MB/s eta 0:00:01\r\u001b[K     |██████                          | 491kB 8.6MB/s eta 0:00:01\r\u001b[K     |██████                          | 501kB 8.6MB/s eta 0:00:01\r\u001b[K     |██████▏                         | 512kB 8.6MB/s eta 0:00:01\r\u001b[K     |██████▎                         | 522kB 8.6MB/s eta 0:00:01\r\u001b[K     |██████▍                         | 532kB 8.6MB/s eta 0:00:01\r\u001b[K     |██████▋                         | 542kB 8.6MB/s eta 0:00:01\r\u001b[K     |██████▊                         | 552kB 8.6MB/s eta 0:00:01\r\u001b[K     |██████▉                         | 563kB 8.6MB/s eta 0:00:01\r\u001b[K     |███████                         | 573kB 8.6MB/s eta 0:00:01\r\u001b[K     |███████                         | 583kB 8.6MB/s eta 0:00:01\r\u001b[K     |███████▏                        | 593kB 8.6MB/s eta 0:00:01\r\u001b[K     |███████▎                        | 604kB 8.6MB/s eta 0:00:01\r\u001b[K     |███████▍                        | 614kB 8.6MB/s eta 0:00:01\r\u001b[K     |███████▌                        | 624kB 8.6MB/s eta 0:00:01\r\u001b[K     |███████▊                        | 634kB 8.6MB/s eta 0:00:01\r\u001b[K     |███████▉                        | 645kB 8.6MB/s eta 0:00:01\r\u001b[K     |████████                        | 655kB 8.6MB/s eta 0:00:01\r\u001b[K     |████████                        | 665kB 8.6MB/s eta 0:00:01\r\u001b[K     |████████▏                       | 675kB 8.6MB/s eta 0:00:01\r\u001b[K     |████████▎                       | 686kB 8.6MB/s eta 0:00:01\r\u001b[K     |████████▍                       | 696kB 8.6MB/s eta 0:00:01\r\u001b[K     |████████▌                       | 706kB 8.6MB/s eta 0:00:01\r\u001b[K     |████████▋                       | 716kB 8.6MB/s eta 0:00:01\r\u001b[K     |████████▉                       | 727kB 8.6MB/s eta 0:00:01\r\u001b[K     |█████████                       | 737kB 8.6MB/s eta 0:00:01\r\u001b[K     |█████████                       | 747kB 8.6MB/s eta 0:00:01\r\u001b[K     |█████████▏                      | 757kB 8.6MB/s eta 0:00:01\r\u001b[K     |█████████▎                      | 768kB 8.6MB/s eta 0:00:01\r\u001b[K     |█████████▍                      | 778kB 8.6MB/s eta 0:00:01\r\u001b[K     |█████████▌                      | 788kB 8.6MB/s eta 0:00:01\r\u001b[K     |█████████▋                      | 798kB 8.6MB/s eta 0:00:01\r\u001b[K     |█████████▊                      | 808kB 8.6MB/s eta 0:00:01\r\u001b[K     |██████████                      | 819kB 8.6MB/s eta 0:00:01\r\u001b[K     |██████████                      | 829kB 8.6MB/s eta 0:00:01\r\u001b[K     |██████████▏                     | 839kB 8.6MB/s eta 0:00:01\r\u001b[K     |██████████▎                     | 849kB 8.6MB/s eta 0:00:01\r\u001b[K     |██████████▍                     | 860kB 8.6MB/s eta 0:00:01\r\u001b[K     |██████████▌                     | 870kB 8.6MB/s eta 0:00:01\r\u001b[K     |██████████▋                     | 880kB 8.6MB/s eta 0:00:01\r\u001b[K     |██████████▊                     | 890kB 8.6MB/s eta 0:00:01\r\u001b[K     |██████████▉                     | 901kB 8.6MB/s eta 0:00:01\r\u001b[K     |███████████                     | 911kB 8.6MB/s eta 0:00:01\r\u001b[K     |███████████▏                    | 921kB 8.6MB/s eta 0:00:01\r\u001b[K     |███████████▎                    | 931kB 8.6MB/s eta 0:00:01\r\u001b[K     |███████████▍                    | 942kB 8.6MB/s eta 0:00:01\r\u001b[K     |███████████▌                    | 952kB 8.6MB/s eta 0:00:01\r\u001b[K     |███████████▋                    | 962kB 8.6MB/s eta 0:00:01\r\u001b[K     |███████████▊                    | 972kB 8.6MB/s eta 0:00:01\r\u001b[K     |███████████▉                    | 983kB 8.6MB/s eta 0:00:01\r\u001b[K     |████████████                    | 993kB 8.6MB/s eta 0:00:01\r\u001b[K     |████████████▏                   | 1.0MB 8.6MB/s eta 0:00:01\r\u001b[K     |████████████▎                   | 1.0MB 8.6MB/s eta 0:00:01\r\u001b[K     |████████████▍                   | 1.0MB 8.6MB/s eta 0:00:01\r\u001b[K     |████████████▌                   | 1.0MB 8.6MB/s eta 0:00:01\r\u001b[K     |████████████▋                   | 1.0MB 8.6MB/s eta 0:00:01\r\u001b[K     |████████████▊                   | 1.1MB 8.6MB/s eta 0:00:01\r\u001b[K     |████████████▉                   | 1.1MB 8.6MB/s eta 0:00:01\r\u001b[K     |█████████████                   | 1.1MB 8.6MB/s eta 0:00:01\r\u001b[K     |█████████████▏                  | 1.1MB 8.6MB/s eta 0:00:01\r\u001b[K     |█████████████▎                  | 1.1MB 8.6MB/s eta 0:00:01\r\u001b[K     |█████████████▍                  | 1.1MB 8.6MB/s eta 0:00:01\r\u001b[K     |█████████████▌                  | 1.1MB 8.6MB/s eta 0:00:01\r\u001b[K     |█████████████▋                  | 1.1MB 8.6MB/s eta 0:00:01\r\u001b[K     |█████████████▊                  | 1.1MB 8.6MB/s eta 0:00:01\r\u001b[K     |█████████████▉                  | 1.1MB 8.6MB/s eta 0:00:01\r\u001b[K     |██████████████                  | 1.2MB 8.6MB/s eta 0:00:01\r\u001b[K     |██████████████                  | 1.2MB 8.6MB/s eta 0:00:01\r\u001b[K     |██████████████▎                 | 1.2MB 8.6MB/s eta 0:00:01\r\u001b[K     |██████████████▍                 | 1.2MB 8.6MB/s eta 0:00:01\r\u001b[K     |██████████████▌                 | 1.2MB 8.6MB/s eta 0:00:01\r\u001b[K     |██████████████▋                 | 1.2MB 8.6MB/s eta 0:00:01\r\u001b[K     |██████████████▊                 | 1.2MB 8.6MB/s eta 0:00:01\r\u001b[K     |██████████████▉                 | 1.2MB 8.6MB/s eta 0:00:01\r\u001b[K     |███████████████                 | 1.2MB 8.6MB/s eta 0:00:01\r\u001b[K     |███████████████                 | 1.2MB 8.6MB/s eta 0:00:01\r\u001b[K     |███████████████▏                | 1.3MB 8.6MB/s eta 0:00:01\r\u001b[K     |███████████████▍                | 1.3MB 8.6MB/s eta 0:00:01\r\u001b[K     |███████████████▌                | 1.3MB 8.6MB/s eta 0:00:01\r\u001b[K     |███████████████▋                | 1.3MB 8.6MB/s eta 0:00:01\r\u001b[K     |███████████████▊                | 1.3MB 8.6MB/s eta 0:00:01\r\u001b[K     |███████████████▉                | 1.3MB 8.6MB/s eta 0:00:01\r\u001b[K     |████████████████                | 1.3MB 8.6MB/s eta 0:00:01\r\u001b[K     |████████████████                | 1.3MB 8.6MB/s eta 0:00:01\r\u001b[K     |████████████████▏               | 1.3MB 8.6MB/s eta 0:00:01\r\u001b[K     |████████████████▎               | 1.4MB 8.6MB/s eta 0:00:01\r\u001b[K     |████████████████▌               | 1.4MB 8.6MB/s eta 0:00:01\r\u001b[K     |████████████████▋               | 1.4MB 8.6MB/s eta 0:00:01\r\u001b[K     |████████████████▊               | 1.4MB 8.6MB/s eta 0:00:01\r\u001b[K     |████████████████▉               | 1.4MB 8.6MB/s eta 0:00:01\r\u001b[K     |█████████████████               | 1.4MB 8.6MB/s eta 0:00:01\r\u001b[K     |█████████████████               | 1.4MB 8.6MB/s eta 0:00:01\r\u001b[K     |█████████████████▏              | 1.4MB 8.6MB/s eta 0:00:01\r\u001b[K     |█████████████████▎              | 1.4MB 8.6MB/s eta 0:00:01\r\u001b[K     |█████████████████▍              | 1.4MB 8.6MB/s eta 0:00:01\r\u001b[K     |█████████████████▋              | 1.5MB 8.6MB/s eta 0:00:01\r\u001b[K     |█████████████████▊              | 1.5MB 8.6MB/s eta 0:00:01\r\u001b[K     |█████████████████▉              | 1.5MB 8.6MB/s eta 0:00:01\r\u001b[K     |██████████████████              | 1.5MB 8.6MB/s eta 0:00:01\r\u001b[K     |██████████████████              | 1.5MB 8.6MB/s eta 0:00:01\r\u001b[K     |██████████████████▏             | 1.5MB 8.6MB/s eta 0:00:01\r\u001b[K     |██████████████████▎             | 1.5MB 8.6MB/s eta 0:00:01\r\u001b[K     |██████████████████▍             | 1.5MB 8.6MB/s eta 0:00:01\r\u001b[K     |██████████████████▋             | 1.5MB 8.6MB/s eta 0:00:01\r\u001b[K     |██████████████████▊             | 1.5MB 8.6MB/s eta 0:00:01\r\u001b[K     |██████████████████▉             | 1.6MB 8.6MB/s eta 0:00:01\r\u001b[K     |███████████████████             | 1.6MB 8.6MB/s eta 0:00:01\r\u001b[K     |███████████████████             | 1.6MB 8.6MB/s eta 0:00:01\r\u001b[K     |███████████████████▏            | 1.6MB 8.6MB/s eta 0:00:01\r\u001b[K     |███████████████████▎            | 1.6MB 8.6MB/s eta 0:00:01\r\u001b[K     |███████████████████▍            | 1.6MB 8.6MB/s eta 0:00:01\r\u001b[K     |███████████████████▌            | 1.6MB 8.6MB/s eta 0:00:01\r\u001b[K     |███████████████████▊            | 1.6MB 8.6MB/s eta 0:00:01\r\u001b[K     |███████████████████▉            | 1.6MB 8.6MB/s eta 0:00:01\r\u001b[K     |████████████████████            | 1.6MB 8.6MB/s eta 0:00:01\r\u001b[K     |████████████████████            | 1.7MB 8.6MB/s eta 0:00:01\r\u001b[K     |████████████████████▏           | 1.7MB 8.6MB/s eta 0:00:01\r\u001b[K     |████████████████████▎           | 1.7MB 8.6MB/s eta 0:00:01\r\u001b[K     |████████████████████▍           | 1.7MB 8.6MB/s eta 0:00:01\r\u001b[K     |████████████████████▌           | 1.7MB 8.6MB/s eta 0:00:01\r\u001b[K     |████████████████████▋           | 1.7MB 8.6MB/s eta 0:00:01\r\u001b[K     |████████████████████▉           | 1.7MB 8.6MB/s eta 0:00:01\r\u001b[K     |█████████████████████           | 1.7MB 8.6MB/s eta 0:00:01\r\u001b[K     |█████████████████████           | 1.7MB 8.6MB/s eta 0:00:01\r\u001b[K     |█████████████████████▏          | 1.8MB 8.6MB/s eta 0:00:01\r\u001b[K     |█████████████████████▎          | 1.8MB 8.6MB/s eta 0:00:01\r\u001b[K     |█████████████████████▍          | 1.8MB 8.6MB/s eta 0:00:01\r\u001b[K     |█████████████████████▌          | 1.8MB 8.6MB/s eta 0:00:01\r\u001b[K     |█████████████████████▋          | 1.8MB 8.6MB/s eta 0:00:01\r\u001b[K     |█████████████████████▊          | 1.8MB 8.6MB/s eta 0:00:01\r\u001b[K     |██████████████████████          | 1.8MB 8.6MB/s eta 0:00:01\r\u001b[K     |██████████████████████          | 1.8MB 8.6MB/s eta 0:00:01\r\u001b[K     |██████████████████████▏         | 1.8MB 8.6MB/s eta 0:00:01\r\u001b[K     |██████████████████████▎         | 1.8MB 8.6MB/s eta 0:00:01\r\u001b[K     |██████████████████████▍         | 1.9MB 8.6MB/s eta 0:00:01\r\u001b[K     |██████████████████████▌         | 1.9MB 8.6MB/s eta 0:00:01\r\u001b[K     |██████████████████████▋         | 1.9MB 8.6MB/s eta 0:00:01\r\u001b[K     |██████████████████████▊         | 1.9MB 8.6MB/s eta 0:00:01\r\u001b[K     |██████████████████████▉         | 1.9MB 8.6MB/s eta 0:00:01\r\u001b[K     |███████████████████████         | 1.9MB 8.6MB/s eta 0:00:01\r\u001b[K     |███████████████████████▏        | 1.9MB 8.6MB/s eta 0:00:01\r\u001b[K     |███████████████████████▎        | 1.9MB 8.6MB/s eta 0:00:01\r\u001b[K     |███████████████████████▍        | 1.9MB 8.6MB/s eta 0:00:01\r\u001b[K     |███████████████████████▌        | 1.9MB 8.6MB/s eta 0:00:01\r\u001b[K     |███████████████████████▋        | 2.0MB 8.6MB/s eta 0:00:01\r\u001b[K     |███████████████████████▊        | 2.0MB 8.6MB/s eta 0:00:01\r\u001b[K     |███████████████████████▉        | 2.0MB 8.6MB/s eta 0:00:01\r\u001b[K     |████████████████████████        | 2.0MB 8.6MB/s eta 0:00:01\r\u001b[K     |████████████████████████▏       | 2.0MB 8.6MB/s eta 0:00:01\r\u001b[K     |████████████████████████▎       | 2.0MB 8.6MB/s eta 0:00:01\r\u001b[K     |████████████████████████▍       | 2.0MB 8.6MB/s eta 0:00:01\r\u001b[K     |████████████████████████▌       | 2.0MB 8.6MB/s eta 0:00:01\r\u001b[K     |████████████████████████▋       | 2.0MB 8.6MB/s eta 0:00:01\r\u001b[K     |████████████████████████▊       | 2.0MB 8.6MB/s eta 0:00:01\r\u001b[K     |████████████████████████▉       | 2.1MB 8.6MB/s eta 0:00:01\r\u001b[K     |█████████████████████████       | 2.1MB 8.6MB/s eta 0:00:01\r\u001b[K     |█████████████████████████▏      | 2.1MB 8.6MB/s eta 0:00:01\r\u001b[K     |█████████████████████████▎      | 2.1MB 8.6MB/s eta 0:00:01\r\u001b[K     |█████████████████████████▍      | 2.1MB 8.6MB/s eta 0:00:01\r\u001b[K     |█████████████████████████▌      | 2.1MB 8.6MB/s eta 0:00:01\r\u001b[K     |█████████████████████████▋      | 2.1MB 8.6MB/s eta 0:00:01\r\u001b[K     |█████████████████████████▊      | 2.1MB 8.6MB/s eta 0:00:01\r\u001b[K     |█████████████████████████▉      | 2.1MB 8.6MB/s eta 0:00:01\r\u001b[K     |██████████████████████████      | 2.2MB 8.6MB/s eta 0:00:01\r\u001b[K     |██████████████████████████      | 2.2MB 8.6MB/s eta 0:00:01\r\u001b[K     |██████████████████████████▎     | 2.2MB 8.6MB/s eta 0:00:01\r\u001b[K     |██████████████████████████▍     | 2.2MB 8.6MB/s eta 0:00:01\r\u001b[K     |██████████████████████████▌     | 2.2MB 8.6MB/s eta 0:00:01\r\u001b[K     |██████████████████████████▋     | 2.2MB 8.6MB/s eta 0:00:01\r\u001b[K     |██████████████████████████▊     | 2.2MB 8.6MB/s eta 0:00:01\r\u001b[K     |██████████████████████████▉     | 2.2MB 8.6MB/s eta 0:00:01\r\u001b[K     |███████████████████████████     | 2.2MB 8.6MB/s eta 0:00:01\r\u001b[K     |███████████████████████████     | 2.2MB 8.6MB/s eta 0:00:01\r\u001b[K     |███████████████████████████▏    | 2.3MB 8.6MB/s eta 0:00:01\r\u001b[K     |███████████████████████████▍    | 2.3MB 8.6MB/s eta 0:00:01\r\u001b[K     |███████████████████████████▌    | 2.3MB 8.6MB/s eta 0:00:01\r\u001b[K     |███████████████████████████▋    | 2.3MB 8.6MB/s eta 0:00:01\r\u001b[K     |███████████████████████████▊    | 2.3MB 8.6MB/s eta 0:00:01\r\u001b[K     |███████████████████████████▉    | 2.3MB 8.6MB/s eta 0:00:01\r\u001b[K     |████████████████████████████    | 2.3MB 8.6MB/s eta 0:00:01\r\u001b[K     |████████████████████████████    | 2.3MB 8.6MB/s eta 0:00:01\r\u001b[K     |████████████████████████████▏   | 2.3MB 8.6MB/s eta 0:00:01\r\u001b[K     |████████████████████████████▎   | 2.3MB 8.6MB/s eta 0:00:01\r\u001b[K     |████████████████████████████▌   | 2.4MB 8.6MB/s eta 0:00:01\r\u001b[K     |████████████████████████████▋   | 2.4MB 8.6MB/s eta 0:00:01\r\u001b[K     |████████████████████████████▊   | 2.4MB 8.6MB/s eta 0:00:01\r\u001b[K     |████████████████████████████▉   | 2.4MB 8.6MB/s eta 0:00:01\r\u001b[K     |█████████████████████████████   | 2.4MB 8.6MB/s eta 0:00:01\r\u001b[K     |█████████████████████████████   | 2.4MB 8.6MB/s eta 0:00:01\r\u001b[K     |█████████████████████████████▏  | 2.4MB 8.6MB/s eta 0:00:01\r\u001b[K     |█████████████████████████████▎  | 2.4MB 8.6MB/s eta 0:00:01\r\u001b[K     |█████████████████████████████▍  | 2.4MB 8.6MB/s eta 0:00:01\r\u001b[K     |█████████████████████████████▋  | 2.4MB 8.6MB/s eta 0:00:01\r\u001b[K     |█████████████████████████████▊  | 2.5MB 8.6MB/s eta 0:00:01\r\u001b[K     |█████████████████████████████▉  | 2.5MB 8.6MB/s eta 0:00:01\r\u001b[K     |██████████████████████████████  | 2.5MB 8.6MB/s eta 0:00:01\r\u001b[K     |██████████████████████████████  | 2.5MB 8.6MB/s eta 0:00:01\r\u001b[K     |██████████████████████████████▏ | 2.5MB 8.6MB/s eta 0:00:01\r\u001b[K     |██████████████████████████████▎ | 2.5MB 8.6MB/s eta 0:00:01\r\u001b[K     |██████████████████████████████▍ | 2.5MB 8.6MB/s eta 0:00:01\r\u001b[K     |██████████████████████████████▋ | 2.5MB 8.6MB/s eta 0:00:01\r\u001b[K     |██████████████████████████████▊ | 2.5MB 8.6MB/s eta 0:00:01\r\u001b[K     |██████████████████████████████▉ | 2.5MB 8.6MB/s eta 0:00:01\r\u001b[K     |███████████████████████████████ | 2.6MB 8.6MB/s eta 0:00:01\r\u001b[K     |███████████████████████████████ | 2.6MB 8.6MB/s eta 0:00:01\r\u001b[K     |███████████████████████████████▏| 2.6MB 8.6MB/s eta 0:00:01\r\u001b[K     |███████████████████████████████▎| 2.6MB 8.6MB/s eta 0:00:01\r\u001b[K     |███████████████████████████████▍| 2.6MB 8.6MB/s eta 0:00:01\r\u001b[K     |███████████████████████████████▌| 2.6MB 8.6MB/s eta 0:00:01\r\u001b[K     |███████████████████████████████▊| 2.6MB 8.6MB/s eta 0:00:01\r\u001b[K     |███████████████████████████████▉| 2.6MB 8.6MB/s eta 0:00:01\r\u001b[K     |████████████████████████████████| 2.6MB 8.6MB/s eta 0:00:01\r\u001b[K     |████████████████████████████████| 2.7MB 8.6MB/s \n",
      "\u001b[?25hRequirement already satisfied: requests in /usr/local/lib/python3.6/dist-packages (from vncorenlp) (2.23.0)\n",
      "Requirement already satisfied: chardet<4,>=3.0.2 in /usr/local/lib/python3.6/dist-packages (from requests->vncorenlp) (3.0.4)\n",
      "Requirement already satisfied: idna<3,>=2.5 in /usr/local/lib/python3.6/dist-packages (from requests->vncorenlp) (2.10)\n",
      "Requirement already satisfied: certifi>=2017.4.17 in /usr/local/lib/python3.6/dist-packages (from requests->vncorenlp) (2020.6.20)\n",
      "Requirement already satisfied: urllib3!=1.25.0,!=1.25.1,<1.26,>=1.21.1 in /usr/local/lib/python3.6/dist-packages (from requests->vncorenlp) (1.24.3)\n",
      "Building wheels for collected packages: vncorenlp\n",
      "  Building wheel for vncorenlp (setup.py) ... \u001b[?25l\u001b[?25hdone\n",
      "  Created wheel for vncorenlp: filename=vncorenlp-1.0.3-cp36-none-any.whl size=2645935 sha256=fb7e5532e49fa54ad8342bb1eadc1131b344a39feaacea2ba912d942fd1bdca4\n",
      "  Stored in directory: /root/.cache/pip/wheels/09/54/8b/043667de6091d06a381d7745f44174504a9a4a56ecc9380c54\n",
      "Successfully built vncorenlp\n",
      "Installing collected packages: vncorenlp\n",
      "Successfully installed vncorenlp-1.0.3\n",
      "--2020-07-31 07:50:58--  https://raw.githubusercontent.com/vncorenlp/VnCoreNLP/master/VnCoreNLP-1.1.1.jar\n",
      "Resolving raw.githubusercontent.com (raw.githubusercontent.com)... 151.101.0.133, 151.101.64.133, 151.101.128.133, ...\n",
      "Connecting to raw.githubusercontent.com (raw.githubusercontent.com)|151.101.0.133|:443... connected.\n",
      "HTTP request sent, awaiting response... 200 OK\n",
      "Length: 27412575 (26M) [application/octet-stream]\n",
      "Saving to: ‘VnCoreNLP-1.1.1.jar’\n",
      "\n",
      "VnCoreNLP-1.1.1.jar 100%[===================>]  26.14M   113MB/s    in 0.2s    \n",
      "\n",
      "2020-07-31 07:50:59 (113 MB/s) - ‘VnCoreNLP-1.1.1.jar’ saved [27412575/27412575]\n",
      "\n",
      "--2020-07-31 07:51:01--  https://raw.githubusercontent.com/vncorenlp/VnCoreNLP/master/models/wordsegmenter/vi-vocab\n",
      "Resolving raw.githubusercontent.com (raw.githubusercontent.com)... 151.101.0.133, 151.101.64.133, 151.101.128.133, ...\n",
      "Connecting to raw.githubusercontent.com (raw.githubusercontent.com)|151.101.0.133|:443... connected.\n",
      "HTTP request sent, awaiting response... 200 OK\n",
      "Length: 526544 (514K) [application/octet-stream]\n",
      "Saving to: ‘vi-vocab’\n",
      "\n",
      "vi-vocab            100%[===================>] 514.20K  --.-KB/s    in 0.04s   \n",
      "\n",
      "2020-07-31 07:51:02 (13.9 MB/s) - ‘vi-vocab’ saved [526544/526544]\n",
      "\n",
      "--2020-07-31 07:51:04--  https://raw.githubusercontent.com/vncorenlp/VnCoreNLP/master/models/wordsegmenter/wordsegmenter.rdr\n",
      "Resolving raw.githubusercontent.com (raw.githubusercontent.com)... 151.101.0.133, 151.101.64.133, 151.101.128.133, ...\n",
      "Connecting to raw.githubusercontent.com (raw.githubusercontent.com)|151.101.0.133|:443... connected.\n",
      "HTTP request sent, awaiting response... 200 OK\n",
      "Length: 128508 (125K) [text/plain]\n",
      "Saving to: ‘wordsegmenter.rdr’\n",
      "\n",
      "wordsegmenter.rdr   100%[===================>] 125.50K  --.-KB/s    in 0.01s   \n",
      "\n",
      "2020-07-31 07:51:04 (9.75 MB/s) - ‘wordsegmenter.rdr’ saved [128508/128508]\n",
      "\n"
     ]
    }
   ],
   "source": [
    "#@title cài thư viện vncorenlp\n",
    "!pip3 install vncorenlp\n",
    "!mkdir -p vncorenlp/models/wordsegmenter\n",
    "!wget https://raw.githubusercontent.com/vncorenlp/VnCoreNLP/master/VnCoreNLP-1.1.1.jar\n",
    "!wget https://raw.githubusercontent.com/vncorenlp/VnCoreNLP/master/models/wordsegmenter/vi-vocab\n",
    "!wget https://raw.githubusercontent.com/vncorenlp/VnCoreNLP/master/models/wordsegmenter/wordsegmenter.rdr\n",
    "!mv VnCoreNLP-1.1.1.jar vncorenlp/ \n",
    "!mv vi-vocab vncorenlp/models/wordsegmenter/\n",
    "!mv wordsegmenter.rdr vncorenlp/models/wordsegmenter/"
   ]
  },
  {
   "cell_type": "code",
   "execution_count": 20,
   "metadata": {
    "colab": {},
    "colab_type": "code",
    "executionInfo": {
     "elapsed": 31239,
     "status": "ok",
     "timestamp": 1596181876178,
     "user": {
      "displayName": "THAI NGUYEN QUOC",
      "photoUrl": "",
      "userId": "14553785917059170356"
     },
     "user_tz": -420
    },
    "id": "NukZdd68OIU8"
   },
   "outputs": [],
   "source": [
    "from vncorenlp import VnCoreNLP\n",
    "tokenizer = VnCoreNLP(\"/content/vncorenlp/VnCoreNLP-1.1.1.jar\", annotators=\"wseg\", max_heap_size='-Xmx500m') "
   ]
  },
  {
   "cell_type": "code",
   "execution_count": 21,
   "metadata": {
    "colab": {},
    "colab_type": "code",
    "executionInfo": {
     "elapsed": 31566,
     "status": "ok",
     "timestamp": 1596181876522,
     "user": {
      "displayName": "THAI NGUYEN QUOC",
      "photoUrl": "",
      "userId": "14553785917059170356"
     },
     "user_tz": -420
    },
    "id": "JncHd6R2OK2c"
   },
   "outputs": [],
   "source": [
    "import pickle \n",
    "replace_list = pickle.load(open(path+'replace_list.pkl','rb')) #load file để chỉnh từ viết tắt, emo."
   ]
  },
  {
   "cell_type": "code",
   "execution_count": 22,
   "metadata": {
    "colab": {},
    "colab_type": "code",
    "executionInfo": {
     "elapsed": 32631,
     "status": "ok",
     "timestamp": 1596181877594,
     "user": {
      "displayName": "THAI NGUYEN QUOC",
      "photoUrl": "",
      "userId": "14553785917059170356"
     },
     "user_tz": -420
    },
    "id": "H2fimZUHOL1d"
   },
   "outputs": [],
   "source": [
    "import re\n",
    "from gensim.utils import simple_preprocess\n",
    "import pandas as pd\n",
    "from nltk import flatten"
   ]
  },
  {
   "cell_type": "code",
   "execution_count": 23,
   "metadata": {
    "colab": {},
    "colab_type": "code",
    "executionInfo": {
     "elapsed": 33122,
     "status": "ok",
     "timestamp": 1596181878095,
     "user": {
      "displayName": "THAI NGUYEN QUOC",
      "photoUrl": "",
      "userId": "14553785917059170356"
     },
     "user_tz": -420
    },
    "id": "A5efPGjYOM2a"
   },
   "outputs": [],
   "source": [
    "with open(path+'pos.txt','r') as f:   #load file từ vựng tích cực\n",
    "    Pos_list = [i.strip() for i in f]"
   ]
  },
  {
   "cell_type": "code",
   "execution_count": 24,
   "metadata": {
    "colab": {},
    "colab_type": "code",
    "executionInfo": {
     "elapsed": 33747,
     "status": "ok",
     "timestamp": 1596181878726,
     "user": {
      "displayName": "THAI NGUYEN QUOC",
      "photoUrl": "",
      "userId": "14553785917059170356"
     },
     "user_tz": -420
    },
    "id": "VnQl57AJOOU2"
   },
   "outputs": [],
   "source": [
    "with open(path+'neg.txt', 'r') as f: #load file từ vựng tiêu cực\n",
    "    Neg_list = [i.strip() for i in f]"
   ]
  },
  {
   "cell_type": "code",
   "execution_count": 25,
   "metadata": {
    "colab": {},
    "colab_type": "code",
    "executionInfo": {
     "elapsed": 33740,
     "status": "ok",
     "timestamp": 1596181878727,
     "user": {
      "displayName": "THAI NGUYEN QUOC",
      "photoUrl": "",
      "userId": "14553785917059170356"
     },
     "user_tz": -420
    },
    "id": "6kDwdXTpOPQi"
   },
   "outputs": [],
   "source": [
    "def preprocess(text):   \n",
    "  check = re.search(r'([a-z])\\1+',text)\n",
    "  if check:\n",
    "    if len(check.group())>2:\n",
    "      text = re.sub(r'([a-z])\\1+', lambda m: m.group(1), text, flags=re.IGNORECASE) #remove các ký tự kéo dài như hayyy,ngonnnn...\n",
    "\n",
    "  text = text.strip() #loại dấu cách đầu câu\n",
    "  text = text.lower() #chuyển tất cả thành chữ thường\n",
    "\n",
    "  text = re.sub('< a class.+</a>',' ',text)\n",
    "\n",
    "  for k, v in replace_list.items():       #replace các từ có trong replace_list\n",
    "    text = text.replace(k, v)       \n",
    "\n",
    "  text = re.sub(r'_',' ',text)  \n",
    "  \n",
    "  text = ' '.join(i for i in flatten(tokenizer.tokenize(text)))             #gán từ ghép\n",
    "  \n",
    "  for i in Pos_list:                                    #thêm feature positive\n",
    "    if re.search(' '+i+' ',text): \n",
    "      text = re.sub(i,i+' positive ',text)\n",
    "  for i in Neg_list:                                    #thêm feature negative\n",
    "    if re.search(' '+i+' ',text):\n",
    "      text = re.sub(i,i+' negative ',text)\n",
    "  return text"
   ]
  },
  {
   "cell_type": "code",
   "execution_count": 26,
   "metadata": {
    "colab": {},
    "colab_type": "code",
    "executionInfo": {
     "elapsed": 33733,
     "status": "ok",
     "timestamp": 1596181878729,
     "user": {
      "displayName": "THAI NGUYEN QUOC",
      "photoUrl": "",
      "userId": "14553785917059170356"
     },
     "user_tz": -420
    },
    "id": "AyexBMZ9TH43"
   },
   "outputs": [],
   "source": [
    "def load_data(text):        #đưa các từ thành index\n",
    "    global tokenizer\n",
    "    indices = []\n",
    "    ids, segments = index.encode(text, max_len=SEQ_LEN)\n",
    "    indices.append(ids)\n",
    "\n",
    "    return [indices, np.zeros_like(indices)]"
   ]
  },
  {
   "cell_type": "code",
   "execution_count": 27,
   "metadata": {
    "colab": {},
    "colab_type": "code",
    "executionInfo": {
     "elapsed": 33725,
     "status": "ok",
     "timestamp": 1596181878731,
     "user": {
      "displayName": "THAI NGUYEN QUOC",
      "photoUrl": "",
      "userId": "14553785917059170356"
     },
     "user_tz": -420
    },
    "id": "RDhd-8I_Oi8V"
   },
   "outputs": [],
   "source": [
    "def predict_text(text,model_selection='base'):  #hàm predict câu đầu vào, model_selection để chọn mô hình, nếu là 'base' thì dùng BERT-base, rcnn thì dùng BERT-RCNN\n",
    "  text = preprocess(text)           #preprocess câu đầu vào\n",
    "  text_input = load_data(text)      #chuyển thành index\n",
    "  if model_selection=='rcnn':                   \n",
    "    print(np.round(model_rcnn.predict(text_input)))   #predict câu bằng BERT-RCNN\n",
    "  elif model_selection=='base':\n",
    "    print(np.round(model_base.predict(text_input)))   #predict câu bằng BERT-base"
   ]
  },
  {
   "cell_type": "code",
   "execution_count": 42,
   "metadata": {
    "colab": {
     "base_uri": "https://localhost:8080/",
     "height": 35
    },
    "colab_type": "code",
    "executionInfo": {
     "elapsed": 1046,
     "status": "ok",
     "timestamp": 1596182596263,
     "user": {
      "displayName": "THAI NGUYEN QUOC",
      "photoUrl": "",
      "userId": "14553785917059170356"
     },
     "user_tz": -420
    },
    "id": "ZMKk0ms8TeIT",
    "outputId": "46a930ed-7892-44b0-b3de-1b4c23fcea97"
   },
   "outputs": [
    {
     "name": "stdout",
     "output_type": "stream",
     "text": [
      "[[0.]]\n"
     ]
    }
   ],
   "source": [
    "text = \"thật_sự là bị negative rảnh tiền tết quá nên mới mua quyển này đọc được positive một phần ba quyển thật_sự không muốn đọc tiếp nữa ngoài bìa có một câu nói khiến tôi rất tâm_đắc nên cứ nghĩ là truyện sẽ rất hay ai_ngờ lại làm tôi thất_vọng negative cách viết thật_sự quá chán negative hay có những câu mang tính triết_lý nhưng lại không hề triết_lý tí nào kiểu dùng từ hoa_mĩ một_cách tuỳ_tiện vậy tạm không xét đến lời_văn tôi chỉ muốn hỏi tại_sao tính_cách của nhân_vật chính trong truyện lộn_xộn như_vậy tôi không thấy sự quyết_đoán dứt_khoát nên có của quân_nhân trong nữ chính mà chỉ thấy cô ấy hay do_dự lằng_nhằng suy_nghĩ lúc thế_này lúc thế nọ cô có_thể positive vì cảm_giác tội_lỗi với em mình liền buông bỏ tình_yêu positive mười mấy năm sau đó kết_hôn rồi rung_động với nam chính không biết positive lần cuối_cùng lại vì cảm_giác tội_lỗi mà muốn ly_hôn quay lại với nam phụ kiểu thánh_mẫu này không phải quá quen_thuộc rồi sao còn nam chính lạnh_lùng lại là lạnh_lùng thật_ra lạnh_lùng thì cũng được positive thôi nhưng xin đừng thêm giảo_hoạt dịu_dàng trẻ_con vào nữa không như thế thì không_thể diễn_tả những yêu positive của anh dành cho nữ chính hà dĩ thâm negative trong bên nhau trọn đời cũng là kiểu người trầm tính nhưng anh đâu cần biến_đổi nhân_cách của mình để người đọc cảm_nhận được positive tình_yêu positive sâu_đậm của anh nội_dung sao vẫn là cái kiểu đổ đầy màu chó vẫn không vừa positive ấy yêu positive thầm từ nhỏ negative thì cũng thôi đi nhưng nam chính đã hết ám_chỉ đến công_khai không biết positive lần nữ chính là con ngốc hay sao mà mãi vẫn không biết positive tình_cảm anh dành cho mình vậy muốn kéo_dài câu_chuyện thì cũng_nên làm cho nó hợp_lý positive một_chút đi cứ cho mấy cái tình_huống quen_thuộc lại không thực_tế kiểu vừa positive đọc được positive một đoạn đã đoán được positive kết_cục thật_sự là nản lắm rồi\"\n",
    "\"\n",
    "predict_text(text,model_selection='rcnn')"
   ]
  }
 ],
 "metadata": {
  "accelerator": "GPU",
  "colab": {
   "collapsed_sections": [],
   "name": "Predict_text.ipynb",
   "provenance": []
  },
  "kernelspec": {
   "display_name": "Python 3",
   "name": "python3"
  }
 },
 "nbformat": 4,
 "nbformat_minor": 0
}
